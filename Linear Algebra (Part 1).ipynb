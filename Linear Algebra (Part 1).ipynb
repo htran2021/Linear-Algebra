{
 "cells": [
  {
   "cell_type": "markdown",
   "metadata": {},
   "source": [
    "### Hello! This is the project which shows how to do linear algebra math by using Python. This project focuses on the basic knowledge about matrices and vectors including:\n",
    "- Create a matrix and verify the dimension, size and entries.\n",
    "- Add a column/row into the given matrix with \"Append\" or \"Concatenate\".\n",
    "- Matrix operations (Addition,Multiplication, and Dot Product)\n",
    "- Matrix Inverse and Determinants\n",
    "- Reduce Row Echelon Form (RREF)"
   ]
  },
  {
   "cell_type": "code",
   "execution_count": 13,
   "metadata": {},
   "outputs": [],
   "source": [
    "import numpy as np\n",
    "import scipy.linalg as la\n",
    "from sympy import * "
   ]
  },
  {
   "cell_type": "markdown",
   "metadata": {},
   "source": [
    "### Create a matrix and verify the info (dim, size, and entries)"
   ]
  },
  {
   "cell_type": "code",
   "execution_count": 14,
   "metadata": {},
   "outputs": [
    {
     "name": "stdout",
     "output_type": "stream",
     "text": [
      "The matrix A is \n",
      " [[2 4 5]\n",
      " [1 3 4]\n",
      " [4 5 6]]\n",
      "The dimension of matrix A is 2\n",
      "The shape of matrix A is (3, 3)\n",
      "The total number of entries are: 9\n"
     ]
    }
   ],
   "source": [
    "# Create a matrix A (3x3)\n",
    "A = np.array([ [2,4,5],[1,3,4],[4,5,6]])\n",
    "print(\"The matrix A is \\n\",A)\n",
    "# Verify the dimensions, shape, and size of the array\n",
    "print(\"The dimension of matrix A is\",A.ndim)\n",
    "print(\"The shape of matrix A is\",A.shape)\n",
    "print(\"The total number of entries are:\",A.size)\n"
   ]
  },
  {
   "cell_type": "code",
   "execution_count": 15,
   "metadata": {},
   "outputs": [
    {
     "name": "stdout",
     "output_type": "stream",
     "text": [
      "The matrix K is \n",
      " [[ 0  3  6]\n",
      " [ 9 12 15]\n",
      " [18 21 24]]\n"
     ]
    }
   ],
   "source": [
    "# Create an array list from a to b with a range of c by np.arange(a,b,c)\n",
    "K = np.arange(0,27,3)\n",
    "# Reconstruct the above list into another matrix dimension by reshape(rows,columns) \n",
    "K = K.reshape(3,3)\n",
    "print(\"The matrix K is \\n\",K)"
   ]
  },
  {
   "cell_type": "markdown",
   "metadata": {},
   "source": [
    "### Add a column into the given matrix"
   ]
  },
  {
   "cell_type": "code",
   "execution_count": 16,
   "metadata": {},
   "outputs": [
    {
     "name": "stdout",
     "output_type": "stream",
     "text": [
      "After appending a new column B, C is: \n",
      " [[2 4 5 2]\n",
      " [1 3 4 3]\n",
      " [4 5 6 4]]\n",
      "After concatenating matrix B and A, D is: \n",
      " [[2 4 5 2]\n",
      " [1 3 4 3]\n",
      " [4 5 6 4]]\n"
     ]
    }
   ],
   "source": [
    "B = np.array([[2],[3],[4]])\n",
    "# Add a column into the array by using \"append\"\n",
    "C = np.append(A,B,axis=1)\n",
    "print(\"After appending a new column B, C is: \\n\",C)\n",
    "D = np.concatenate((A,B),axis=1)\n",
    "print(\"After concatenating matrix B and A, D is: \\n\",D)"
   ]
  },
  {
   "cell_type": "markdown",
   "metadata": {},
   "source": [
    "### Add a row into the given matrix"
   ]
  },
  {
   "cell_type": "code",
   "execution_count": 17,
   "metadata": {},
   "outputs": [
    {
     "name": "stdout",
     "output_type": "stream",
     "text": [
      "After appending a new row E into C, we have: \n",
      " [[2 4 5 2]\n",
      " [1 3 4 3]\n",
      " [4 5 6 4]\n",
      " [2 3 4 5]]\n",
      "After concatenating matrix E and C, we have: \n",
      " [[2 4 5 2]\n",
      " [1 3 4 3]\n",
      " [4 5 6 4]\n",
      " [2 3 4 5]]\n"
     ]
    }
   ],
   "source": [
    "E = np.array([2,3,4,5])\n",
    "# Add a new row into the array C by using \"append\"\n",
    "F = np.append(C,[E],axis=0)\n",
    "print(\"After appending a new row E into C, we have: \\n\",F)\n",
    "# Add a new row into the array by using \"concatenate\"\n",
    "G = np.concatenate([C,[E]],axis=0)\n",
    "print(\"After concatenating matrix E and C, we have: \\n\",G)"
   ]
  },
  {
   "cell_type": "markdown",
   "metadata": {},
   "source": [
    "### Operations among matrices (Transpose, Dot Product, Addition, and Power)"
   ]
  },
  {
   "cell_type": "code",
   "execution_count": 18,
   "metadata": {},
   "outputs": [
    {
     "name": "stdout",
     "output_type": "stream",
     "text": [
      "The matrix A transpose is: \n",
      " [[2 1 4]\n",
      " [4 3 5]\n",
      " [5 4 6]]\n",
      "The sum of matrices (A and K) is: \n",
      " [[ 2  7 11]\n",
      " [10 15 19]\n",
      " [22 26 30]]\n",
      "Dot product of matrices (A and K) is \n",
      " [[126 159 192]\n",
      " [ 99 123 147]\n",
      " [153 198 243]]\n",
      "The square of matrix A is \n",
      " [[ 4 16 25]\n",
      " [ 1  9 16]\n",
      " [16 25 36]]\n"
     ]
    }
   ],
   "source": [
    "# Transpose a matrix\n",
    "A_T = A.T\n",
    "print(\"The matrix A transpose is: \\n\",A_T)\n",
    "# Do arithmatic operations between A and K matrices\n",
    "B = K + A\n",
    "print(\"The sum of matrices (A and K) is: \\n\",B)\n",
    "# Dot product between two matrices\n",
    "print(\"Dot product of matrices (A and K) is \\n\",A@K)\n",
    "# Raise a power for matrix A\n",
    "print(\"The square of matrix A is \\n\",A*A)"
   ]
  },
  {
   "cell_type": "markdown",
   "metadata": {},
   "source": [
    "### Matrix Inverse and Determinant"
   ]
  },
  {
   "cell_type": "code",
   "execution_count": 19,
   "metadata": {},
   "outputs": [
    {
     "name": "stdout",
     "output_type": "stream",
     "text": [
      "The inverse of matrix A is \n",
      " [[-2.  1.  1.]\n",
      " [10. -8. -3.]\n",
      " [-7.  6.  2.]]\n",
      "The determinant of matrix A  is \n",
      " 1.000000000000002\n",
      "The dot product of a matrix and its invesse: \n",
      " [[ 1.  0.  0.]\n",
      " [-0.  1.  0.]\n",
      " [-0.  0.  1.]]\n"
     ]
    }
   ],
   "source": [
    "# Find matrix inverse by linalg function\n",
    "print(\"The inverse of matrix A is \\n\",la.inv(A))\n",
    "# Find the determinant of matrix\n",
    "print(\"The determinant of matrix A  is \\n\",la.det(A))\n",
    "A1 = la.inv(A)\n",
    "#Dot product of a matrix and its identity\n",
    "print(\"The dot product of a matrix and its invesse: \\n\",np.rint(A.dot(A1)))"
   ]
  },
  {
   "cell_type": "markdown",
   "metadata": {},
   "source": [
    "### Reduce Row Echelon Form (RREF)"
   ]
  },
  {
   "cell_type": "code",
   "execution_count": 20,
   "metadata": {},
   "outputs": [
    {
     "data": {
      "text/latex": [
       "$\\displaystyle \\left[\\begin{matrix}1 & 0 & 0\\\\0 & 1 & 0\\\\0 & 0 & 1\\end{matrix}\\right]$"
      ],
      "text/plain": [
       "Matrix([\n",
       "[1, 0, 0],\n",
       "[0, 1, 0],\n",
       "[0, 0, 1]])"
      ]
     },
     "execution_count": 20,
     "metadata": {},
     "output_type": "execute_result"
    }
   ],
   "source": [
    "# Using sympy library to calculate rref\n",
    "# Find RREF for a mtrix\n",
    "A_RREF = Matrix(A).rref()\n",
    "# It will retrieve two tuples: a rref form and indices of pivot column\n",
    "A1 = A_RREF[0]\n",
    "# To get a rref form only, find the first tuple\n",
    "A1"
   ]
  },
  {
   "cell_type": "code",
   "execution_count": 21,
   "metadata": {},
   "outputs": [
    {
     "name": "stdout",
     "output_type": "stream",
     "text": [
      "The Row echelon form of given matrix and the pivot column is: (Matrix([\n",
      "[1, 0, 0,  -17/44, -17/44],\n",
      "[0, 1, 0,   65/77,   3/11],\n",
      "[0, 0, 1, 149/308,  15/44]]), (0, 1, 2))\n"
     ]
    }
   ],
   "source": [
    "myMatrix = Matrix([[1, 0, 7, 3, 2], [0, 6, 4, 7, 3], [7,-1, -3, -5, -4]])\n",
    "\n",
    "# Using sympy.rref() method to find rref\n",
    "matrix_rref = myMatrix.rref()\n",
    "\t\n",
    "print(\"The Row echelon form of given matrix and the pivot column is: {}\".format(matrix_rref))\n"
   ]
  }
 ],
 "metadata": {
  "interpreter": {
   "hash": "26de051ba29f2982a8de78e945f0abaf191376122a1563185a90213a26c5da77"
  },
  "kernelspec": {
   "display_name": "Python 3.10.1 64-bit",
   "language": "python",
   "name": "python3"
  },
  "language_info": {
   "codemirror_mode": {
    "name": "ipython",
    "version": 3
   },
   "file_extension": ".py",
   "mimetype": "text/x-python",
   "name": "python",
   "nbconvert_exporter": "python",
   "pygments_lexer": "ipython3",
   "version": "3.10.1"
  },
  "orig_nbformat": 4
 },
 "nbformat": 4,
 "nbformat_minor": 2
}
